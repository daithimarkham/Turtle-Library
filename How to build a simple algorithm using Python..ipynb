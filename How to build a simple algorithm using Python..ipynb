{
 "cells": [
  {
   "cell_type": "markdown",
   "metadata": {},
   "source": [
    "## How to build a simple algorithm in Python using the Turtle library.\n",
    "\n",
    "#### Further information on this Python library can be found here: https://docs.python.org/3/library/turtle.html\n",
    "\n",
    "- Draw simple shapes using simple algorithms."
   ]
  },
  {
   "cell_type": "code",
   "execution_count": null,
   "metadata": {},
   "outputs": [],
   "source": [
    "# Python library that enables users to create pictures and shapes,\n",
    "# by providing them with a virtual canvas.\n",
    "\n",
    "import turtle"
   ]
  },
  {
   "cell_type": "markdown",
   "metadata": {},
   "source": [
    "### Now we can do it a shorter way."
   ]
  },
  {
   "cell_type": "code",
   "execution_count": null,
   "metadata": {},
   "outputs": [],
   "source": [
    "# Draw a square the long way.\n",
    "\n",
    "my_turtle = turtle.Turtle()\n",
    "print(my_turtle)\n",
    "my_turtle.fd(100) # forward length 100 pixels\n",
    "my_turtle.lt(90) # rotates left 90 degrees\n",
    "my_turtle.fd(100)\n",
    "my_turtle.lt(90)\n",
    "my_turtle.fd(100)\n",
    "my_turtle.lt(90)\n",
    "my_turtle.fd(100)\n",
    "my_turtle.lt(90)\n",
    "\n",
    "turtle.mainloop()\n"
   ]
  },
  {
   "cell_type": "markdown",
   "metadata": {},
   "source": [
    "### Now we can do it a shorter way."
   ]
  },
  {
   "cell_type": "code",
   "execution_count": null,
   "metadata": {
    "scrolled": true
   },
   "outputs": [],
   "source": [
    "# Drawing a square with a loop.\n",
    "\n",
    "my_turtle_loop = turtle.Turtle()\n",
    "print(my_turtle_loop)\n",
    "for i in range(4): # for loop ensures we do it 4 times.\n",
    "    my_turtle_loop.fd(100) # forward 100\n",
    "    my_turtle_loop.lt(90)  # left 90 degrees\n",
    "    \n",
    "turtle.mainloop()\n"
   ]
  },
  {
   "cell_type": "markdown",
   "metadata": {},
   "source": [
    "## Write a function that draws a square.\n",
    "#### In the future we can create a square in one line of code."
   ]
  },
  {
   "cell_type": "code",
   "execution_count": null,
   "metadata": {},
   "outputs": [],
   "source": [
    "# Function that draws a square.\n",
    "# Tells Python we created a function,\n",
    "# And anytime in the future we want to create a square, \n",
    "# We use this line of code.\n",
    "\n",
    "def square(turtle_name,length): # name and how big you want length\n",
    "    for i in range(4): # \n",
    "        turtle_name.fd(length)\n",
    "        turtle_name.lt(90)\n",
    "            "
   ]
  },
  {
   "cell_type": "markdown",
   "metadata": {},
   "source": [
    "#### Create another turtle called John using a fuction in one line of code."
   ]
  },
  {
   "cell_type": "code",
   "execution_count": null,
   "metadata": {},
   "outputs": [],
   "source": [
    "john = turtle.Turtle() # creates a turtle called john."
   ]
  },
  {
   "cell_type": "code",
   "execution_count": null,
   "metadata": {
    "scrolled": true
   },
   "outputs": [],
   "source": [
    "square(john,200) # use turtle john and want a side of 200\n",
    "turtle.mainloop()\n"
   ]
  },
  {
   "cell_type": "markdown",
   "metadata": {},
   "source": [
    "## Turtle star\n",
    "\n",
    "Turtle can draw intricate shapes using programs that repeat simple moves."
   ]
  },
  {
   "cell_type": "code",
   "execution_count": null,
   "metadata": {},
   "outputs": [],
   "source": [
    "from turtle import *\n",
    "color('red', 'yellow') # colours of design\n",
    "begin_fill() # start colour fill\n",
    "while True: \n",
    "    forward(200) \n",
    "    left(170)\n",
    "    if abs(pos()) < 1: # Telling turtle state and position if less than 1, break.\n",
    "        break\n",
    "end_fill() # end colour fill\n",
    "done()"
   ]
  },
  {
   "cell_type": "markdown",
   "metadata": {},
   "source": [
    "## Function that draws a polygon."
   ]
  },
  {
   "cell_type": "code",
   "execution_count": null,
   "metadata": {},
   "outputs": [],
   "source": [
    "# draw any polygon in turtle \n",
    "\n",
    "\n",
    "\n",
    "# creating turtle pen \n",
    "t = turtle.Turtle() \n",
    "\n",
    "# taking input for the no of the sides of the polygon \n",
    "n = int(input(\"Enter the no of the sides of the polygon : \")) \n",
    "\n",
    "# taking input for the length of the sides of the polygon \n",
    "l = int(input(\"Enter the length of the sides of the polygon : \")) \n",
    "\n",
    "\n",
    "for _ in range(n): \n",
    "    turtle.forward(l) \n",
    "    turtle.right(360 / n) \n",
    "\n",
    "turtle.done()"
   ]
  },
  {
   "cell_type": "markdown",
   "metadata": {},
   "source": [
    "### Create function to draw square."
   ]
  },
  {
   "cell_type": "code",
   "execution_count": 6,
   "metadata": {},
   "outputs": [],
   "source": [
    "# Create function to draw square\n",
    "\n",
    "def draw_square(some_turtle):\n",
    "    for i in range(1, 5):\n",
    "        some_turtle.forward(100)\n",
    "        some_turtle.right(90)"
   ]
  },
  {
   "cell_type": "code",
   "execution_count": null,
   "metadata": {},
   "outputs": [],
   "source": [
    "def draw_art():    \n",
    "    window = turtle.Screen()\n",
    "    window.bgcolor(\"white\") # background colour\n",
    "    \n",
    "some_square = turtle.Turtle() # Create the turtle some_square - Draws a square\n",
    "some_square.shape(\"turtle\")\n",
    "some_square.color(\"red\") # colour of art\n",
    "some_square.speed(6) # speed it draws\n",
    "some_square.right(20) # \n",
    "\n",
    "for i in range(1, 37):\n",
    "    draw_square(some_square)\n",
    "    some_square.right(10)\n",
    "    \n",
    "draw_art()\n",
    "turtle.done()"
   ]
  },
  {
   "cell_type": "markdown",
   "metadata": {},
   "source": [
    "## References\n",
    "\n",
    "https://docs.python.org/3/library/turtle.html\n",
    "\n",
    "https://www.geeksforgeeks.org/draw-any-polygon-in-turtle-python/"
   ]
  }
 ],
 "metadata": {
  "kernelspec": {
   "display_name": "Python 3",
   "language": "python",
   "name": "python3"
  },
  "language_info": {
   "codemirror_mode": {
    "name": "ipython",
    "version": 3
   },
   "file_extension": ".py",
   "mimetype": "text/x-python",
   "name": "python",
   "nbconvert_exporter": "python",
   "pygments_lexer": "ipython3",
   "version": "3.8.3"
  }
 },
 "nbformat": 4,
 "nbformat_minor": 2
}
